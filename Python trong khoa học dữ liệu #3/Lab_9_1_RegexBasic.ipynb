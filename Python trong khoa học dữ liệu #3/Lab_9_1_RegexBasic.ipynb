{
  "nbformat": 4,
  "nbformat_minor": 0,
  "metadata": {
    "colab": {
      "provenance": [],
      "include_colab_link": true
    },
    "kernelspec": {
      "name": "python3",
      "display_name": "Python 3"
    },
    "language_info": {
      "name": "python"
    }
  },
  "cells": [
    {
      "cell_type": "markdown",
      "metadata": {
        "id": "view-in-github",
        "colab_type": "text"
      },
      "source": [
        "<a href=\"https://colab.research.google.com/github/drago467/MMC---Data-Science-Course-Logs/blob/main/Python%20trong%20khoa%20h%E1%BB%8Dc%20d%E1%BB%AF%20li%E1%BB%87u%20%233/Lab_9_1_RegexBasic.ipynb\" target=\"_parent\"><img src=\"https://colab.research.google.com/assets/colab-badge.svg\" alt=\"Open In Colab\"/></a>"
      ]
    },
    {
      "cell_type": "markdown",
      "source": [
        "## Bài tập 1: Lấy số điện thoại từ một văn bản\n",
        "Cho một văn bản đầu vào, viết một chương trình Python sử dụng regex để trích xuất tất cả các số điện thoại có trong văn bản."
      ],
      "metadata": {
        "id": "E_V5EQmSIqCT"
      }
    },
    {
      "cell_type": "code",
      "execution_count": null,
      "metadata": {
        "colab": {
          "base_uri": "https://localhost:8080/"
        },
        "id": "014IQFh1Cj_J",
        "outputId": "c04f6539-3729-4871-cbd2-861706ea5286"
      },
      "outputs": [
        {
          "output_type": "stream",
          "name": "stdout",
          "text": [
            "['0987654321']\n"
          ]
        }
      ],
      "source": [
        "import re\n",
        "\n",
        "def extract_phone_numbers(text):\n",
        "    phone_pattern = r''\n",
        "    phone_numbers = re.findall(phone_pattern, text)\n",
        "    return phone_numbers\n",
        "\n",
        "# Example usage:\n",
        "text = \"Liên hệ với tôi qua số điện thoại 0987654321.\"\n",
        "print(extract_phone_numbers(text))\n"
      ]
    },
    {
      "cell_type": "markdown",
      "source": [
        "### Đáp án"
      ],
      "metadata": {
        "id": "y-eig7AbIhUj"
      }
    },
    {
      "cell_type": "markdown",
      "source": [
        "```\\b0\\d{9}\\b```\n",
        "\n",
        "* **\\b**: Đây là một \"word boundary\", nó đảm bảo rằng chúng ta chỉ kết hợp với số điện thoại khi nó xuất hiện như một từ riêng lẻ (không phải một phần của một từ khác).\n",
        "* **0**: Chữ số 0 đứng đầu.\n",
        "* **\\d{9}**: Tiếp theo là bất kỳ chữ số nào (0-9) xuất hiện chính xác 9 lần.\n",
        "* **\\b**: \"Word boundary\" khác ở cuối, để đảm bảo số điện thoại kết thúc như một từ riêng lẻ."
      ],
      "metadata": {
        "id": "9--LUIDnIlUD"
      }
    },
    {
      "cell_type": "markdown",
      "source": [
        "## Bài tập 2: Lấy email từ một văn bản\n",
        "Viết một chương trình Python để trích xuất tất cả các địa chỉ email từ một văn bản đầu vào bằng cách sử dụng regex."
      ],
      "metadata": {
        "id": "DjGcqtl7Iu6q"
      }
    },
    {
      "cell_type": "code",
      "source": [
        "import re\n",
        "\n",
        "def extract_emails(text):\n",
        "    email_pattern = r''\n",
        "    emails = re.findall(email_pattern, text)\n",
        "    return emails\n",
        "\n",
        "# Example usage:\n",
        "text = \"Email liên hệ: example@gmail.com hoặc contact@domain.com.\"\n",
        "print(extract_emails(text))"
      ],
      "metadata": {
        "colab": {
          "base_uri": "https://localhost:8080/"
        },
        "id": "fRfqNs_oIwXm",
        "outputId": "79773bd7-41f7-4e1d-b12e-45bc95b3fc0d"
      },
      "execution_count": null,
      "outputs": [
        {
          "output_type": "stream",
          "name": "stdout",
          "text": [
            "['example@gmail.com', 'contact@domain.com']\n"
          ]
        }
      ]
    },
    {
      "cell_type": "markdown",
      "source": [
        "#### Đáp án"
      ],
      "metadata": {
        "id": "PVqEQJhiJ42t"
      }
    },
    {
      "cell_type": "markdown",
      "source": [
        "```\\b[A-Za-z0-9._%+-]+@[A-Za-z0-9.-]+\\.[A-Z|a-z]{2,}\\b```\n",
        "* **\\b**: Đây là một \"word boundary\", nó đảm bảo rằng biểu thức chỉ phù hợp với một địa chỉ email khi nó xuất hiện như một từ riêng lẻ, không phải một phần của một từ khác.\n",
        "\n",
        "* **[A-Za-z0-9._%+-]+**: Đây là một nhóm ký tự, nó phù hợp với một hoặc nhiều ký tự trong khoảng từ A đến Z (in hoa), a đến z (in thường), hoặc từ 0 đến 9, hoặc các ký tự . _ % + -.\n",
        "\n",
        "* **@**: Ký tự @ cần phải xuất hiện sau phần trên để tạo thành một địa chỉ email hợp lệ.\n",
        "\n",
        "* **[A-Za-z0-9.-]+**: Đây là một nhóm ký tự, nó phù hợp với một hoặc nhiều ký tự trong khoảng từ A đến Z (in hoa), a đến z (in thường), hoặc từ 0 đến 9, hoặc các ký tự . và -.\n",
        "\n",
        "* **\\\\.**: Ký tự dấu chấm \".\" phải xuất hiện sau phần trên để phù hợp với một địa chỉ email hợp lệ.\n",
        "\n",
        "* **[A-Z|a-z]{2,}**: Đây là một nhóm ký tự, nó phù hợp với hai ký tự trở lên trong khoảng từ A đến Z hoặc từ a đến z. Điều này đại diện cho phần mở rộng tên miền, như .com, .net, .org, vv.\n",
        "\n",
        "* **\\b**: Đây là một \"word boundary\", nó đảm bảo rằng địa chỉ email kết thúc như một từ riêng lẻ, không phải một phần của một từ khác."
      ],
      "metadata": {
        "id": "UDxyHN6IJYdx"
      }
    },
    {
      "cell_type": "markdown",
      "source": [
        "## Bài tập 3: Lấy số điện thoại và email từ một đoạn mã HTML\n",
        "Viết một chương trình Python để trích xuất tất cả các số điện thoại và địa chỉ email từ một đoạn mã HTML đầu vào bằng cách sử dụng regex."
      ],
      "metadata": {
        "id": "_FewMtGNKIhd"
      }
    },
    {
      "cell_type": "code",
      "source": [
        "import re\n",
        "\n",
        "def extract_phone_and_emails(html):\n",
        "    phone_pattern = r'\\b0\\d{9}\\b'\n",
        "    email_pattern = r'\\b[A-Za-z0-9._%+-]+@[A-Za-z0-9.-]+\\.[A-Z|a-z]{2,}\\b'\n",
        "    phones = re.findall(phone_pattern, html)\n",
        "    emails = re.findall(email_pattern, html)\n",
        "    return phones, emails\n",
        "\n",
        "# Example usage:\n",
        "html_code = \"\"\"\n",
        "<html>\n",
        "<body>\n",
        "<p>Liên hệ qua số điện thoại: 0825294200 hoặc email: contact@example.com.</p>\n",
        "<p>Hỗ trợ: support@domain.com</p>\n",
        "</body>\n",
        "</html>\n",
        "\"\"\"\n",
        "phones, emails = extract_phone_and_emails(html_code)\n",
        "print(\"Phone numbers:\", phones)\n",
        "print(\"Emails:\", emails)\n"
      ],
      "metadata": {
        "id": "-tmJlRXOKKld",
        "colab": {
          "base_uri": "https://localhost:8080/"
        },
        "outputId": "aa611477-a02d-4fb9-b9bd-d3937428bfca"
      },
      "execution_count": null,
      "outputs": [
        {
          "output_type": "stream",
          "name": "stdout",
          "text": [
            "Phone numbers: ['0825294200']\n",
            "Emails: ['contact@example.com', 'support@domain.com']\n"
          ]
        }
      ]
    }
  ]
}